{
 "cells": [
  {
   "cell_type": "markdown",
   "metadata": {},
   "source": [
    "### 4. Problem: Classifier Design and Imbalanced Datasets\n",
    "For this problem, use the digits dataset.\n",
    "\n",
    "a. Explain the meaning of an imbalanced dataset, and why it can be a problem in ML. Comment\n",
    "\n",
    "An imbalanced dataset is when a dataset containing multiple classes has an unbalanced number of samples between classes. This can be an issue since with skewed class proportions, the training model would lean more onto the class with larger training size and test samples. This would make smaller portioned class less relevant making the entire model less informative.\n",
    "\n",
    "b. Explain the PROs/CONs of the accuracy score vs. the F1-score.\n",
    "    Accuracy is a metric that quantifies the total correct predictions made by a model out of all predictions. It's straightforward to calculate and understand. However, its simplicity can lead to misinterpretations, especially with imbalanced datasets. In such cases, the model may predict the majority class most of the time, leading to a high accuracy score that overlooks the minority class.\n",
    "\n",
    "    The F1-score, on the other hand, considers both precision and recall. Precision measures the accuracy of positive predictions, while recall measures the completeness of positive predictions. Therefore, the F1-score is a better metric than accuracy for evaluating models on imbalanced datasets. However, the F1-score does not take into account true negatives, which can be problematic in scenarios where true positives are not emphasized.\n",
    "\n",
    "c. Design a suitable classifier for this dataset. You may consider alternatives among any built-in\n",
    "classifiers (supported by scikit-learn). Justify your final selected design, including parameter\n",
    "selection and performance metric used.\n",
    "\n",
    "d. Explain the principles of K-fold cross validation. For the classifier selected in part (c), evaluate\n",
    "the performance using this method, and comment on your results."
   ]
  },
  {
   "cell_type": "code",
   "execution_count": null,
   "metadata": {},
   "outputs": [],
   "source": []
  }
 ],
 "metadata": {
  "language_info": {
   "name": "python"
  }
 },
 "nbformat": 4,
 "nbformat_minor": 2
}
