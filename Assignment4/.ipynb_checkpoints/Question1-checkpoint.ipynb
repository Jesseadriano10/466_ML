{
 "cells": [
  {
   "cell_type": "markdown",
   "metadata": {},
   "source": [
    "# Problem: Classifier Performance Evaluation and Parameter Tuning\n",
    "\n",
    "For this problem, the dataset to be used is the Iris dataset.\n",
    "\n",
    "1. For the module `sklearn.metrics`, discuss what other metrics should be applicable here, and compare your classifiers in terms of these metrics.\n",
    "\n",
    "2. For the kNN, plot the accuracy metric as a function of the `n_neighbors` parameter. What is the optimal value? Does your answer differ depending on the validation strategy used to assess the performance? Explain your answer.\n",
    "\n",
    "3. Design an SVM classifier for this dataset, and comment on the results.\n",
    "\n",
    "4. Investigate the computational times for the various classifiers, in terms of both training and classification execution times. You should find the magic function `%timeit` useful."
   ]
  },
  {
   "cell_type": "code",
   "execution_count": null,
   "metadata": {},
   "outputs": [],
   "source": [
    "# Import iris dataset from sklearn\n",
    "from sklearn import datasets.iris"
   ]
  }
 ],
 "metadata": {
  "kernelspec": {
   "display_name": "Python 3",
   "language": "python",
   "name": "python3"
  },
  "language_info": {
   "codemirror_mode": {
    "name": "ipython",
    "version": 3
   },
   "file_extension": ".py",
   "mimetype": "text/x-python",
   "name": "python",
   "nbconvert_exporter": "python",
   "pygments_lexer": "ipython3",
   "version": "3.6.8"
  }
 },
 "nbformat": 4,
 "nbformat_minor": 2
}
